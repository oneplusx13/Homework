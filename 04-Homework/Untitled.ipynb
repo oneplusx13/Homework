{
 "cells": [
  {
   "cell_type": "code",
   "execution_count": null,
   "id": "bad47480-8137-4cc2-b721-9ca9a11ee25f",
   "metadata": {},
   "outputs": [],
   "source": [
    "user_input = input(\"Please enter your age: \" )\n",
    "age = int(user_input)\n",
    "\n",
    "if age >= 25:\n",
    "  print(\"Renting a car is more affordable\")\n",
    "elif age <= 25 and age >= 18:\n",
    "  print(\"Renting a car is very expensive\")\n",
    "elif age < 18:\n",
    "  print(\"You cannot legally rent a car\")\n",
    "#else:\n",
    "#  print(\"Renting a car is very expensive\")\n"
   ]
  },
  {
   "cell_type": "code",
   "execution_count": null,
   "id": "9bdc26a8-e9bb-4b95-b9a9-924cdb988a51",
   "metadata": {},
   "outputs": [],
   "source": [
    "couture = [\"trousers\", \"blouse\", \"bandana\", \"cumber band\", \"blazer\", \"vest\", \"french beret\", \"scarf\", \"stole\"]\n",
    "panettone = {\"cerise\", \"fuchsia\", \"aqua\", \"maple\", \"auburn\", \"burnt sienna\", \"gunmetal blue\", \"Dark Sapphire\"}\n",
    "\n",
    "\n",
    "for clothes in couture:\n",
    "  for color in panettone:\n",
    "    print(f\"{clothes} {color}\")\n"
   ]
  },
  {
   "cell_type": "code",
   "execution_count": null,
   "id": "74bfbf02-694a-4e99-a07f-717ef361b060",
   "metadata": {},
   "outputs": [],
   "source": [
    "def count_characters(input_string):\n",
    "\n",
    "  char_counts = {}\n",
    "\n",
    "  for char in input_string:\n",
    "      if char in char_counts:\n",
    "          char_counts[char] += 1\n",
    "      else:\n",
    "          char_counts[char] = 1\n",
    "\n",
    "  return char_counts\n",
    "\n",
    "my_string = input(\"Enter string: \")\n",
    "character_counts = count_characters(my_string)\n",
    "print(character_counts)\n"
   ]
  },
  {
   "cell_type": "code",
   "execution_count": null,
   "id": "d31e1161-1e8c-49b1-b4d4-662cdef9d55e",
   "metadata": {},
   "outputs": [],
   "source": [
    "total_sum = 0\n",
    "\n",
    "for number in range(1, 101):\n",
    "  total_sum += number\n",
    "\n",
    "print(f\"The sum of numbers from 1 to 100 is: {total_sum}\")\n"
   ]
  },
  {
   "cell_type": "code",
   "execution_count": null,
   "id": "e39af9d3-9a35-48dd-94d5-e54fd13c6488",
   "metadata": {},
   "outputs": [],
   "source": [
    "fruits = [\"apple\", \"banana\", \"cherry\"]\n",
    "\n",
    "print(fruits[1])\n",
    "\n",
    "fruits[0] = \"kiwi\"\n",
    "print(fruits)\n",
    "\n",
    "orange = \"orange\"\n",
    "fruits.append(orange)\n",
    "print(fruits)\n",
    "\n",
    "fruits.insert(1, \"lemon\")\n",
    "print(fruits)\n",
    "\n",
    "list = [\"apple\", \"banana\", \"cherry\"]\n",
    "list.pop(1)\n",
    "print(list)\n"
   ]
  },
  {
   "cell_type": "code",
   "execution_count": 4,
   "id": "973a5896-a097-4a57-bab1-cacb2b662d2f",
   "metadata": {},
   "outputs": [
    {
     "name": "stdout",
     "output_type": "stream",
     "text": [
      "melon\n",
      "kiwi\n"
     ]
    }
   ],
   "source": [
    "fruits = [\"apple\", \"banana\", \"cherry\", \"orange\", \"kiwi\", \"melon\", \"mango\"]\n",
    "print(fruits[-2])\n",
    "print(fruits[-3])"
   ]
  },
  {
   "cell_type": "code",
   "execution_count": 9,
   "id": "a7839701-caeb-4fd0-96d6-daf6ca773ac8",
   "metadata": {},
   "outputs": [
    {
     "name": "stdout",
     "output_type": "stream",
     "text": [
      "['cherry', 'orange', 'kiwi']\n"
     ]
    }
   ],
   "source": [
    "fruits = [\"apple\", \"banana\", \"cherry\", \"orange\", \"kiwi\", \"melon\", \"mango\"]\n",
    "print(fruits[2:5])"
   ]
  },
  {
   "cell_type": "code",
   "execution_count": 11,
   "id": "a37fcf1b-16bb-459e-bbc9-1f40c4564f42",
   "metadata": {},
   "outputs": [
    {
     "name": "stdout",
     "output_type": "stream",
     "text": [
      "7\n"
     ]
    }
   ],
   "source": [
    "fruits =  [\"apple\", \"banana\", \"cherry\", \"orange\", \"kiwi\", \"melon\", \"mango\"]\n",
    "number = len(fruits)\n",
    "print(number)"
   ]
  },
  {
   "cell_type": "code",
   "execution_count": null,
   "id": "88070106-13f3-47e6-8fe3-571bba8ebd8c",
   "metadata": {},
   "outputs": [],
   "source": []
  }
 ],
 "metadata": {
  "kernelspec": {
   "display_name": "Python 3 (ipykernel)",
   "language": "python",
   "name": "python3"
  },
  "language_info": {
   "codemirror_mode": {
    "name": "ipython",
    "version": 3
   },
   "file_extension": ".py",
   "mimetype": "text/x-python",
   "name": "python",
   "nbconvert_exporter": "python",
   "pygments_lexer": "ipython3",
   "version": "3.12.3"
  }
 },
 "nbformat": 4,
 "nbformat_minor": 5
}
